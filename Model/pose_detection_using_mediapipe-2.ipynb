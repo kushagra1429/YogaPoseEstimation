{
 "cells": [
  {
   "cell_type": "code",
   "execution_count": 9,
   "id": "ed46271d",
   "metadata": {},
   "outputs": [
    {
     "name": "stdout",
     "output_type": "stream",
     "text": [
      "Requirement already satisfied: mediapipe in ./anaconda3/lib/python3.10/site-packages (0.10.3)\n",
      "Requirement already satisfied: protobuf<4,>=3.11 in ./anaconda3/lib/python3.10/site-packages (from mediapipe) (3.20.3)\n",
      "Requirement already satisfied: absl-py in ./anaconda3/lib/python3.10/site-packages (from mediapipe) (1.4.0)\n",
      "Requirement already satisfied: opencv-contrib-python in ./anaconda3/lib/python3.10/site-packages (from mediapipe) (4.8.0.76)\n",
      "Requirement already satisfied: flatbuffers>=2.0 in ./anaconda3/lib/python3.10/site-packages (from mediapipe) (23.5.26)\n",
      "Requirement already satisfied: numpy in ./anaconda3/lib/python3.10/site-packages (from mediapipe) (1.23.5)\n",
      "Requirement already satisfied: matplotlib in ./anaconda3/lib/python3.10/site-packages (from mediapipe) (3.7.0)\n",
      "Requirement already satisfied: attrs>=19.1.0 in ./anaconda3/lib/python3.10/site-packages (from mediapipe) (22.1.0)\n",
      "Requirement already satisfied: sounddevice>=0.4.4 in ./anaconda3/lib/python3.10/site-packages (from mediapipe) (0.4.6)\n",
      "Requirement already satisfied: CFFI>=1.0 in ./anaconda3/lib/python3.10/site-packages (from sounddevice>=0.4.4->mediapipe) (1.15.1)\n",
      "Requirement already satisfied: contourpy>=1.0.1 in ./anaconda3/lib/python3.10/site-packages (from matplotlib->mediapipe) (1.0.5)\n",
      "Requirement already satisfied: kiwisolver>=1.0.1 in ./anaconda3/lib/python3.10/site-packages (from matplotlib->mediapipe) (1.4.4)\n",
      "Requirement already satisfied: fonttools>=4.22.0 in ./anaconda3/lib/python3.10/site-packages (from matplotlib->mediapipe) (4.25.0)\n",
      "Requirement already satisfied: cycler>=0.10 in ./anaconda3/lib/python3.10/site-packages (from matplotlib->mediapipe) (0.11.0)\n",
      "Requirement already satisfied: pillow>=6.2.0 in ./anaconda3/lib/python3.10/site-packages (from matplotlib->mediapipe) (9.4.0)\n",
      "Requirement already satisfied: pyparsing>=2.3.1 in ./anaconda3/lib/python3.10/site-packages (from matplotlib->mediapipe) (3.0.9)\n",
      "Requirement already satisfied: packaging>=20.0 in ./anaconda3/lib/python3.10/site-packages (from matplotlib->mediapipe) (22.0)\n",
      "Requirement already satisfied: python-dateutil>=2.7 in ./anaconda3/lib/python3.10/site-packages (from matplotlib->mediapipe) (2.8.2)\n",
      "Requirement already satisfied: pycparser in ./anaconda3/lib/python3.10/site-packages (from CFFI>=1.0->sounddevice>=0.4.4->mediapipe) (2.21)\n",
      "Requirement already satisfied: six>=1.5 in ./anaconda3/lib/python3.10/site-packages (from python-dateutil>=2.7->matplotlib->mediapipe) (1.16.0)\n"
     ]
    }
   ],
   "source": [
    "!pip install mediapipe"
   ]
  },
  {
   "cell_type": "code",
   "execution_count": 2,
   "id": "30a388a3",
   "metadata": {},
   "outputs": [
    {
     "name": "stdout",
     "output_type": "stream",
     "text": [
      "Requirement already satisfied: opencv-python in ./anaconda3/lib/python3.10/site-packages (4.8.0.76)\r\n",
      "Requirement already satisfied: numpy>=1.19.3 in ./anaconda3/lib/python3.10/site-packages (from opencv-python) (1.23.5)\r\n"
     ]
    }
   ],
   "source": [
    "!pip install opencv-python"
   ]
  },
  {
   "cell_type": "code",
   "execution_count": 10,
   "id": "d72ee332",
   "metadata": {},
   "outputs": [
    {
     "name": "stdout",
     "output_type": "stream",
     "text": [
      "Requirement already satisfied: numpy in ./anaconda3/lib/python3.10/site-packages (1.23.5)\r\n"
     ]
    }
   ],
   "source": [
    "!pip install numpy"
   ]
  },
  {
   "cell_type": "code",
   "execution_count": 1,
   "id": "8403a67c",
   "metadata": {},
   "outputs": [],
   "source": [
    "import cv2\n",
    "import mediapipe as mp\n",
    "import numpy as np\n",
    "mp_drawing = mp.solutions.drawing_utils\n",
    "mp_pose = mp.solutions.pose"
   ]
  },
  {
   "cell_type": "code",
   "execution_count": 9,
   "id": "ce35bb42",
   "metadata": {},
   "outputs": [],
   "source": [
    "downdog_angles = {\"elbow_angle_left_min\":148.47,\"elbow_angle_left_max\":177.22,\n",
    "                 \"shoulder_angle_left_min\":156.79,\"shoulder_angle_left_max\":179.55,\n",
    "                 \"hip_angle_left_min\":38.06,\"hip_angle_left_max\":85.92,\n",
    "                 \"knee_angle_left_min\":156.11,\"knee_angle_left_max\":180,\n",
    "                 \"elbow_angle_right_min\":145.70,\"elbow_angle_right_max\":177.28,\n",
    "                 \"shoulder_angle_right_min\":155.43,\"shoulder_angle_right_max\":179.92,\n",
    "                 \"hip_angle_right_min\":39.62,\"hip_angle_right_max\":86.75,\n",
    "                 \"knee_angle_right_min\":161.97,\"knee_angle_right_max\":179.72}"
   ]
  },
  {
   "cell_type": "code",
   "execution_count": 2,
   "id": "fea0674f",
   "metadata": {},
   "outputs": [],
   "source": [
    "goddess_angles = {\"elbow_angle_left_min\":53.10,\"elbow_angle_left_max\":113.52,\n",
    "                 \"shoulder_angle_left_min\":51.30,\"shoulder_angle_left_max\":120.15,\n",
    "                 \"hip_angle_left_min\":85.15,\"hip_angle_left_max\":144.29,\n",
    "                 \"knee_angle_left_min\":68.39,\"knee_angle_left_max\":162.53,\n",
    "                 \"elbow_angle_right_min\":58.80,\"elbow_angle_right_max\":119.91,\n",
    "                 \"shoulder_angle_right_min\":64.10,\"shoulder_angle_right_max\":109.48,\n",
    "                 \"hip_angle_right_min\":85.00,\"hip_angle_right_max\":144.23,\n",
    "                 \"knee_angle_right_min\":85.57,\"knee_angle_right_max\":160.95}"
   ]
  },
  {
   "cell_type": "code",
   "execution_count": 4,
   "id": "465a3379",
   "metadata": {},
   "outputs": [],
   "source": [
    "plank_angles = {\"elbow_angle_left_min\":165.94,\"elbow_angle_left_max\":179.85,\n",
    "                 \"shoulder_angle_left_min\":38.53,\"shoulder_angle_left_max\":97.74,\n",
    "                 \"hip_angle_left_min\":130.74,\"hip_angle_left_max\":179.44,\n",
    "                 \"knee_angle_left_min\":156.76,\"knee_angle_left_max\":179.99,\n",
    "                 \"elbow_angle_right_min\":164.68,\"elbow_angle_right_max\":179.08,\n",
    "                 \"shoulder_angle_right_min\":46.33,\"shoulder_angle_right_max\":86.68,\n",
    "                 \"hip_angle_right_min\":135.54,\"hip_angle_right_max\":179.52,\n",
    "                 \"knee_angle_right_min\":156.50,\"knee_angle_right_max\":179.92}"
   ]
  },
  {
   "cell_type": "code",
   "execution_count": 2,
   "id": "9d5f8f36",
   "metadata": {},
   "outputs": [],
   "source": [
    "tree_angles = {\"elbow_angle_left_min\":27.69,\"elbow_angle_left_max\":60.17,\n",
    "                 \"shoulder_angle_left_min\":15.38,\"shoulder_angle_left_max\":59.76,\n",
    "                 \"hip_angle_left_min\":106.03,\"hip_angle_left_max\":179.40,\n",
    "                 \"knee_angle_left_min\":22.81,\"knee_angle_left_max\":178.53,\n",
    "                 \"elbow_angle_right_min\":25.30,\"elbow_angle_right_max\":56.31,\n",
    "                 \"shoulder_angle_right_min\":9.42,\"shoulder_angle_right_max\":54.12,\n",
    "                 \"hip_angle_right_min\":100.3,\"hip_angle_right_max\":179.7,\n",
    "                 \"knee_angle_right_min\":18.01,\"knee_angle_right_max\":179.83}"
   ]
  },
  {
   "cell_type": "code",
   "execution_count": 6,
   "id": "2b098aaa",
   "metadata": {},
   "outputs": [],
   "source": [
    "warrior_angles = {\"elbow_angle_left_min\":160.56,\"elbow_angle_left_max\":179.8,\n",
    "                 \"shoulder_angle_left_min\":68.52,\"shoulder_angle_left_max\":118.53,\n",
    "                 \"hip_angle_left_min\":68.72,\"hip_angle_left_max\":153.16,\n",
    "                 \"knee_angle_left_min\":93.99,\"knee_angle_left_max\":179.95,\n",
    "                 \"elbow_angle_right_min\":163.52,\"elbow_angle_right_max\":179.94,\n",
    "                 \"shoulder_angle_right_min\":73.37,\"shoulder_angle_right_max\":120.70,\n",
    "                 \"hip_angle_right_min\":60.36,\"hip_angle_right_max\":161.75,\n",
    "                 \"knee_angle_right_min\":61.38,\"knee_angle_right_max\":179.96}"
   ]
  },
  {
   "cell_type": "code",
   "execution_count": 3,
   "id": "075951bb",
   "metadata": {},
   "outputs": [],
   "source": [
    "def angle_between(a,b,c):\n",
    "    a = np.array(a)\n",
    "    b= np.array(b)\n",
    "    c = np.array(c)\n",
    "    \n",
    "    radians= np.arctan2(c[1] - b[1], c[0] - b[0]) - np.arctan2(a[1]-b[1], a[0]-b[0])\n",
    "    angle = np.abs(radians*180.0/np.pi)\n",
    "    \n",
    "    if angle > 180.0:\n",
    "        angle = 360 - angle\n",
    "    return angle "
   ]
  },
  {
   "cell_type": "code",
   "execution_count": 4,
   "id": "7c0aa522",
   "metadata": {},
   "outputs": [],
   "source": [
    "p = 0.98\n",
    "q = 1.02\n",
    "angles = goddess_angles"
   ]
  },
  {
   "cell_type": "code",
   "execution_count": 5,
   "id": "59214913",
   "metadata": {},
   "outputs": [
    {
     "name": "stderr",
     "output_type": "stream",
     "text": [
      "2023-11-22 10:17:21.247 python3[21352:1113685] WARNING: AVCaptureDeviceTypeExternal is deprecated for Continuity Cameras. Please use AVCaptureDeviceTypeContinuityCamera and add NSCameraUseContinuityCameraDeviceType to your Info.plist.\n",
      "WARNING: All log messages before absl::InitializeLog() is called are written to STDERR\n",
      "I0000 00:00:1700628442.617388       1 gl_context.cc:344] GL version: 2.1 (2.1 Metal - 88), renderer: Apple M2 Pro\n",
      "INFO: Created TensorFlow Lite XNNPACK delegate for CPU.\n"
     ]
    },
    {
     "ename": "",
     "evalue": "",
     "output_type": "error",
     "traceback": [
      "\u001b[1;31mThe Kernel crashed while executing code in the the current cell or a previous cell. Please review the code in the cell(s) to identify a possible cause of the failure. Click <a href='https://aka.ms/vscodeJupyterKernelCrash'>here</a> for more info. View Jupyter <a href='command:jupyter.viewOutput'>log</a> for further details."
     ]
    }
   ],
   "source": [
    "cap = cv2.VideoCapture(0)\n",
    "with mp_pose.Pose(min_detection_confidence = 0.5, min_tracking_confidence = 0.5) as pose:\n",
    "    while cap.isOpened():\n",
    "        ret,frame = cap.read()\n",
    "        \n",
    "        \n",
    "        image = cv2.cvtColor(frame, cv2.COLOR_BGR2RGB)\n",
    "        image.flags.writeable = False\n",
    "        \n",
    "        results = pose.process(image)\n",
    "        \n",
    "        image.flags.writeable = True\n",
    "        image = cv2.cvtColor(image,cv2.COLOR_RGB2BGR)\n",
    "        \n",
    "        try:\n",
    "            landmarks = results.pose_landmarks.landmark\n",
    "            shoulder_left = [landmarks[mp_pose.PoseLandmark.LEFT_SHOULDER.value].x,landmarks[mp_pose.PoseLandmark.LEFT_SHOULDER.value].y]\n",
    "            elbow_left = [landmarks[mp_pose.PoseLandmark.LEFT_ELBOW.value].x,landmarks[mp_pose.PoseLandmark.LEFT_ELBOW.value].y]\n",
    "            wrist_left = [landmarks[mp_pose.PoseLandmark.LEFT_WRIST.value].x,landmarks[mp_pose.PoseLandmark.LEFT_WRIST.value].y]\n",
    "            hip_left = [landmarks[mp_pose.PoseLandmark.LEFT_HIP.value].x,landmarks[mp_pose.PoseLandmark.LEFT_HIP.value].y]\n",
    "            ankle_left = [landmarks[mp_pose.PoseLandmark.LEFT_ANKLE.value].x,landmarks[mp_pose.PoseLandmark.LEFT_ANKLE.value].y]\n",
    "            knee_left = [landmarks[mp_pose.PoseLandmark.LEFT_KNEE.value].x,landmarks[mp_pose.PoseLandmark.LEFT_KNEE.value].y]\n",
    "            shoulder_right = [landmarks[mp_pose.PoseLandmark.RIGHT_SHOULDER.value].x,landmarks[mp_pose.PoseLandmark.RIGHT_SHOULDER.value].y]\n",
    "            elbow_right = [landmarks[mp_pose.PoseLandmark.RIGHT_ELBOW.value].x,landmarks[mp_pose.PoseLandmark.RIGHT_ELBOW.value].y]\n",
    "            wrist_right = [landmarks[mp_pose.PoseLandmark.RIGHT_WRIST.value].x,landmarks[mp_pose.PoseLandmark.RIGHT_WRIST.value].y]\n",
    "            hip_right = [landmarks[mp_pose.PoseLandmark.RIGHT_HIP.value].x,landmarks[mp_pose.PoseLandmark.RIGHT_HIP.value].y]\n",
    "            ankle_right = [landmarks[mp_pose.PoseLandmark.RIGHT_ANKLE.value].x,landmarks[mp_pose.PoseLandmark.RIGHT_ANKLE.value].y]\n",
    "            knee_right = [landmarks[mp_pose.PoseLandmark.RIGHT_KNEE.value].x,landmarks[mp_pose.PoseLandmark.RIGHT_KNEE.value].y]\n",
    "            \n",
    "            a = angle_between(wrist_left,elbow_left,shoulder_left)\n",
    "            b = angle_between(elbow_left,shoulder_left,hip_left)\n",
    "            c = angle_between(shoulder_left,hip_left,knee_left)\n",
    "            d = angle_between(hip_left,knee_left,ankle_left)\n",
    "            e = angle_between(wrist_right,elbow_right,shoulder_right)\n",
    "            f = angle_between(elbow_right,shoulder_right,hip_right)\n",
    "            g = angle_between(shoulder_right,hip_right,knee_right)\n",
    "            h = angle_between(hip_right,knee_right,ankle_right)\n",
    "            \n",
    "            \n",
    "            \n",
    "            if ((angles.get(\"elbow_angle_left_min\") * p < a < angles.get(\"elbow_angle_left_max\") * q) \n",
    "                and (angles.get(\"shoulder_angle_left_min\") * p  < b < angles.get(\"shoulder_angle_left_max\") * q) \n",
    "                and (angles.get(\"hip_angle_left_min\") * p < c < angles.get(\"hip_angle_left_max\")  * q )\n",
    "                and (angles.get(\"knee_angle_left_min\") * p< d < angles.get(\"knee_angle_left_max\") * q)\n",
    "                and (angles.get(\"elbow_angle_right_min\") * p < e < angles.get(\"elbow_angle_right_max\") * q)\n",
    "                and (angles.get(\"shoulder_angle_right_min\") * p < f < angles.get(\"shoulder_angle_right_max\") * q) \n",
    "                and (angles.get(\"hip_angle_right_min\") * p < g < angles.get(\"hip_angle_right_max\") * q) \n",
    "                and (angles.get(\"knee_angle_right_min\") * p < h < angles.get(\"knee_angle_right_max\") * q )):\n",
    "                mp_drawing.draw_landmarks(image, results.pose_landmarks, mp_pose.POSE_CONNECTIONS,\n",
    "                                 mp_drawing.DrawingSpec(color =(255,81,31), thickness = 3, circle_radius =2),\n",
    "                                 mp_drawing.DrawingSpec(color =(57,255,20), thickness = 3, circle_radius =2))\n",
    "            else:\n",
    "                mp_drawing.draw_landmarks(image, results.pose_landmarks, mp_pose.POSE_CONNECTIONS,\n",
    "                                 mp_drawing.DrawingSpec(color =(255,81,31), thickness = 3, circle_radius =2),\n",
    "                                 mp_drawing.DrawingSpec(color =(0,0,255), thickness = 3, circle_radius =2))\n",
    "\n",
    "                \n",
    "        except:\n",
    "            pass\n",
    "        \n",
    "        \n",
    "        \n",
    "        \n",
    "        cv2.imshow('Mediapipe Feed', image)\n",
    "        if cv2.waitKey(10) & 0xFF == ord('q'):\n",
    "            break\n",
    "cap.release()\n",
    "cv2.destroyAllWindows()\n"
   ]
  },
  {
   "cell_type": "code",
   "execution_count": null,
   "id": "f20052d2",
   "metadata": {},
   "outputs": [],
   "source": []
  },
  {
   "cell_type": "code",
   "execution_count": null,
   "id": "c1e522e8",
   "metadata": {},
   "outputs": [],
   "source": []
  },
  {
   "cell_type": "code",
   "execution_count": null,
   "id": "0fb601da",
   "metadata": {},
   "outputs": [],
   "source": []
  },
  {
   "cell_type": "code",
   "execution_count": null,
   "id": "f5c67aaf",
   "metadata": {},
   "outputs": [],
   "source": []
  },
  {
   "cell_type": "code",
   "execution_count": null,
   "id": "9bdcfeaf",
   "metadata": {},
   "outputs": [],
   "source": []
  },
  {
   "cell_type": "code",
   "execution_count": null,
   "id": "2c862351",
   "metadata": {},
   "outputs": [],
   "source": []
  }
 ],
 "metadata": {
  "kernelspec": {
   "display_name": "Python 3 (ipykernel)",
   "language": "python",
   "name": "python3"
  },
  "language_info": {
   "codemirror_mode": {
    "name": "ipython",
    "version": 3
   },
   "file_extension": ".py",
   "mimetype": "text/x-python",
   "name": "python",
   "nbconvert_exporter": "python",
   "pygments_lexer": "ipython3",
   "version": "3.9.16"
  }
 },
 "nbformat": 4,
 "nbformat_minor": 5
}
